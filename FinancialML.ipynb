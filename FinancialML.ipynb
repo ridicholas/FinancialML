{
  "nbformat": 4,
  "nbformat_minor": 0,
  "metadata": {
    "accelerator": "TPU",
    "colab": {
      "name": "FinancialML.ipynb",
      "provenance": [],
      "collapsed_sections": []
    },
    "kernelspec": {
      "name": "python3",
      "display_name": "Python 3"
    },
    "language_info": {
      "codemirror_mode": {
        "name": "ipython",
        "version": 3
      },
      "file_extension": ".py",
      "mimetype": "text/x-python",
      "name": "python",
      "nbconvert_exporter": "python",
      "pygments_lexer": "ipython3",
      "version": "3.7.4"
    }
  },
  "cells": [
    {
      "cell_type": "markdown",
      "metadata": {
        "colab_type": "text",
        "id": "DFded1BTXeFJ"
      },
      "source": [
        "# Financial ML"
      ]
    },
    {
      "cell_type": "code",
      "metadata": {
        "colab_type": "code",
        "id": "A0x-OwIhXVrE",
        "colab": {
          "base_uri": "https://localhost:8080/",
          "height": 275
        },
        "outputId": "c0cdd0b3-d315-49df-8722-512125b41ac0"
      },
      "source": [
        "!pip install mplfinance\n",
        "import numpy as np\n",
        "import pandas as pd\n",
        "import sklearn\n",
        "import datetime\n",
        "import mplfinance as mpf\n",
        "import matplotlib.pyplot as plt"
      ],
      "execution_count": 2,
      "outputs": [
        {
          "output_type": "stream",
          "text": [
            "Collecting mplfinance\n",
            "  Downloading https://files.pythonhosted.org/packages/6a/d7/6cf850a7d033e997b6b0f934840b4540d054c26f809d158b33dc94e6d1fb/mplfinance-0.12.3a3-py3-none-any.whl\n",
            "Requirement already satisfied: pandas in /usr/local/lib/python3.6/dist-packages (from mplfinance) (0.25.3)\n",
            "Requirement already satisfied: matplotlib in /usr/local/lib/python3.6/dist-packages (from mplfinance) (3.2.1)\n",
            "Requirement already satisfied: pytz>=2017.2 in /usr/local/lib/python3.6/dist-packages (from pandas->mplfinance) (2018.9)\n",
            "Requirement already satisfied: python-dateutil>=2.6.1 in /usr/local/lib/python3.6/dist-packages (from pandas->mplfinance) (2.8.1)\n",
            "Requirement already satisfied: numpy>=1.13.3 in /usr/local/lib/python3.6/dist-packages (from pandas->mplfinance) (1.18.2)\n",
            "Requirement already satisfied: cycler>=0.10 in /usr/local/lib/python3.6/dist-packages (from matplotlib->mplfinance) (0.10.0)\n",
            "Requirement already satisfied: kiwisolver>=1.0.1 in /usr/local/lib/python3.6/dist-packages (from matplotlib->mplfinance) (1.1.0)\n",
            "Requirement already satisfied: pyparsing!=2.0.4,!=2.1.2,!=2.1.6,>=2.0.1 in /usr/local/lib/python3.6/dist-packages (from matplotlib->mplfinance) (2.4.6)\n",
            "Requirement already satisfied: six>=1.5 in /usr/local/lib/python3.6/dist-packages (from python-dateutil>=2.6.1->pandas->mplfinance) (1.12.0)\n",
            "Requirement already satisfied: setuptools in /usr/local/lib/python3.6/dist-packages (from kiwisolver>=1.0.1->matplotlib->mplfinance) (46.0.0)\n",
            "Installing collected packages: mplfinance\n",
            "Successfully installed mplfinance-0.12.3a3\n"
          ],
          "name": "stdout"
        }
      ]
    },
    {
      "cell_type": "code",
      "metadata": {
        "id": "1QC_znsVH21w",
        "colab_type": "code",
        "outputId": "c2ada188-0997-4e37-9fe7-812ea204869f",
        "colab": {
          "base_uri": "https://localhost:8080/",
          "height": 270
        }
      },
      "source": [
        "try:\n",
        "    from pydrive.auth import GoogleAuth\n",
        "    from pydrive.drive import GoogleDrive\n",
        "    from google.colab import auth\n",
        "    from oauth2client.client import GoogleCredentials\n",
        "    auth.authenticate_user()\n",
        "    gauth = GoogleAuth()\n",
        "    gauth.credentials = GoogleCredentials.get_application_default()\n",
        "    drive = GoogleDrive(gauth)\n",
        "    link = 'https://drive.google.com/open?id=1Xl9krWLvAUF0IMxFA0hqF2HwG5AejwTN'\n",
        "    fluff, id = link.split('=')\n",
        "    downloaded = drive.CreateFile({'id':id}) \n",
        "    downloaded.GetContentFile('hourAll.csv')  \n",
        "    data = pd.read_csv('hourAll.csv')\n",
        "except:\n",
        "    print('cant colab')"
      ],
      "execution_count": 3,
      "outputs": [
        {
          "output_type": "display_data",
          "data": {
            "text/html": [
              "<p style=\"color: red;\">\n",
              "The default version of TensorFlow in Colab will switch to TensorFlow 2.x on the 27th of March, 2020.<br>\n",
              "We recommend you <a href=\"https://www.tensorflow.org/guide/migrate\" target=\"_blank\">upgrade</a> now\n",
              "or ensure your notebook will continue to use TensorFlow 1.x via the <code>%tensorflow_version 1.x</code> magic:\n",
              "<a href=\"https://colab.research.google.com/notebooks/tensorflow_version.ipynb\" target=\"_blank\">more info</a>.</p>\n"
            ],
            "text/plain": [
              "<IPython.core.display.HTML object>"
            ]
          },
          "metadata": {
            "tags": []
          }
        },
        {
          "output_type": "stream",
          "text": [
            "WARNING:tensorflow:\n",
            "The TensorFlow contrib module will not be included in TensorFlow 2.0.\n",
            "For more information, please see:\n",
            "  * https://github.com/tensorflow/community/blob/master/rfcs/20180907-contrib-sunset.md\n",
            "  * https://github.com/tensorflow/addons\n",
            "  * https://github.com/tensorflow/io (for I/O related ops)\n",
            "If you depend on functionality not listed there, please file an issue.\n",
            "\n"
          ],
          "name": "stdout"
        },
        {
          "output_type": "stream",
          "text": [
            "/usr/local/lib/python3.6/dist-packages/IPython/core/interactiveshell.py:2718: DtypeWarning: Columns (4) have mixed types. Specify dtype option on import or set low_memory=False.\n",
            "  interactivity=interactivity, compiler=compiler, result=result)\n"
          ],
          "name": "stderr"
        }
      ]
    },
    {
      "cell_type": "code",
      "metadata": {
        "colab_type": "code",
        "id": "jlNT4sqUh6I5",
        "outputId": "cc63b537-45bb-4243-d077-9e3077c831b5",
        "colab": {
          "resources": {
            "http://localhost:8080/nbextensions/google.colab/files.js": {
              "data": "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",
              "ok": true,
              "headers": [
                [
                  "content-type",
                  "application/javascript"
                ]
              ],
              "status": 200,
              "status_text": ""
            }
          },
          "base_uri": "https://localhost:8080/",
          "height": 37
        }
      },
      "source": [
        "try:\n",
        "    from google.colab import files\n",
        "    uploaded = files.upload()\n",
        "except:\n",
        "    print('cant colab')"
      ],
      "execution_count": 0,
      "outputs": [
        {
          "output_type": "display_data",
          "data": {
            "text/html": [
              "\n",
              "     <input type=\"file\" id=\"files-97325590-ad0a-45b0-b0b5-995ef97e1962\" name=\"files[]\" multiple disabled />\n",
              "     <output id=\"result-97325590-ad0a-45b0-b0b5-995ef97e1962\">\n",
              "      Upload widget is only available when the cell has been executed in the\n",
              "      current browser session. Please rerun this cell to enable.\n",
              "      </output>\n",
              "      <script src=\"/nbextensions/google.colab/files.js\"></script> "
            ],
            "text/plain": [
              "<IPython.core.display.HTML object>"
            ]
          },
          "metadata": {
            "tags": []
          }
        }
      ]
    },
    {
      "cell_type": "markdown",
      "metadata": {
        "colab_type": "text",
        "id": "bRk9ikZwkHga"
      },
      "source": [
        "## Data"
      ]
    },
    {
      "cell_type": "code",
      "metadata": {
        "colab_type": "code",
        "id": "mLcKTh1FfpbI",
        "colab": {}
      },
      "source": [
        "class TAQ():\n",
        "    \"\"\"TAQ object generated from WRDS database TAQ trade csv file.\n",
        "    Stores initial CSV as pd dataframe and renames columns\"\"\"\n",
        "\n",
        "    def __init__(self, path='null', data=None):\n",
        "        if path != 'null':\n",
        "            self.taqPath = path\n",
        "            self.rawData = pd.read_csv(path)\n",
        "        elif data is not None:\n",
        "            self.rawData = data\n",
        "\n",
        "        self.data = self.preprocess()\n",
        "        self.timeBars = self.makeTimeBars()\n",
        "\n",
        "    def make_timestamp(self, level = 'Min'):\n",
        "        combined = self.rawData['DATE'].apply(str) + ' ' + self.rawData['TIME_M']\n",
        "        timestamp = pd.to_datetime(combined)\n",
        "        return timestamp.dt.floor(level)\n",
        "\n",
        "    def preprocess(self, level = 'Min'):\n",
        "        data = self.rawData[['SYM_ROOT', 'EX', 'SIZE', 'PRICE']]\n",
        "        data = data.rename(columns={\"SYM_ROOT\": \"ticker\", \"EX\": 'exchange', \"SIZE\" : 'volume', \"PRICE\": 'price'})\n",
        "        data['priceXvolume'] = data['price'] * data['volume']\n",
        "        data['timestamp'] = self.make_timestamp(level)\n",
        "        data['date'] = data['timestamp'].dt.date\n",
        "        ticks = data['price'].diff()/abs(data['price'].diff())\n",
        "        newSym = data['ticker'].ne(data['ticker'].shift(1))\n",
        "        ticks[newSym] = 0\n",
        "        ticks = ticks.fillna(method = 'ffill')\n",
        "        data['ticks'] = ticks\n",
        "        return data\n",
        "\n",
        "\n",
        "\n",
        "    def makeTimeBars(self):\n",
        "        \"\"\"Will create TimeBars using level specified in pre-processing\"\"\"\n",
        "\n",
        "        groupData = self.data.groupby(['ticker', 'timestamp'])\n",
        "        volsum = groupData['volume'].sum()\n",
        "        psum = groupData['priceXvolume'].sum()\n",
        "        vwap = psum / volsum\n",
        "        o = groupData['price'].first()\n",
        "        c = groupData['price'].last()\n",
        "        high = groupData['price'].max()\n",
        "        low = groupData['price'].min()\n",
        "        frame = {'Volume': volsum, 'VWAP': vwap, 'Open': o, 'Close': c, 'High': high, 'Low': low}\n",
        "        frame = pd.DataFrame(frame)\n",
        "        return frame"
      ],
      "execution_count": 0,
      "outputs": []
    },
    {
      "cell_type": "code",
      "metadata": {
        "colab_type": "code",
        "id": "caVe7twZfwN4",
        "outputId": "4d4f23af-3466-4406-9937-350b5c9d1512",
        "colab": {
          "base_uri": "https://localhost:8080/",
          "height": 71
        }
      },
      "source": [
        "try:\n",
        "  try:\n",
        "    taq = TAQ('hourAll.csv')\n",
        "  except:\n",
        "    import io\n",
        "    taq = TAQ(io.BytesIO(uploaded['QQQ1Day.csv']))\n",
        "except:\n",
        "    taq = TAQ('QQQ1Day.csv')"
      ],
      "execution_count": 5,
      "outputs": [
        {
          "output_type": "stream",
          "text": [
            "/usr/local/lib/python3.6/dist-packages/IPython/core/interactiveshell.py:2822: DtypeWarning: Columns (4) have mixed types. Specify dtype option on import or set low_memory=False.\n",
            "  if self.run_code(code, result):\n"
          ],
          "name": "stderr"
        }
      ]
    },
    {
      "cell_type": "code",
      "metadata": {
        "colab_type": "code",
        "id": "jBGJtR0FzCcs",
        "outputId": "cef4b7e1-9cfc-41c0-ff88-7499c174ab29",
        "colab": {
          "base_uri": "https://localhost:8080/",
          "height": 439
        }
      },
      "source": [
        "rawData = taq.rawData\n",
        "rawData.head(100)"
      ],
      "execution_count": 6,
      "outputs": [
        {
          "output_type": "execute_result",
          "data": {
            "text/html": [
              "<div>\n",
              "<style scoped>\n",
              "    .dataframe tbody tr th:only-of-type {\n",
              "        vertical-align: middle;\n",
              "    }\n",
              "\n",
              "    .dataframe tbody tr th {\n",
              "        vertical-align: top;\n",
              "    }\n",
              "\n",
              "    .dataframe thead th {\n",
              "        text-align: right;\n",
              "    }\n",
              "</style>\n",
              "<table border=\"1\" class=\"dataframe\">\n",
              "  <thead>\n",
              "    <tr style=\"text-align: right;\">\n",
              "      <th></th>\n",
              "      <th>DATE</th>\n",
              "      <th>TIME_M</th>\n",
              "      <th>EX</th>\n",
              "      <th>SYM_ROOT</th>\n",
              "      <th>SYM_SUFFIX</th>\n",
              "      <th>TR_SCOND</th>\n",
              "      <th>SIZE</th>\n",
              "      <th>PRICE</th>\n",
              "      <th>TR_CORR</th>\n",
              "      <th>TR_SEQNUM</th>\n",
              "      <th>TR_ID</th>\n",
              "      <th>TR_SOURCE</th>\n",
              "      <th>TR_RF</th>\n",
              "    </tr>\n",
              "  </thead>\n",
              "  <tbody>\n",
              "    <tr>\n",
              "      <th>0</th>\n",
              "      <td>20200102</td>\n",
              "      <td>9:29:57.929553117</td>\n",
              "      <td>P</td>\n",
              "      <td>A</td>\n",
              "      <td>NaN</td>\n",
              "      <td>T</td>\n",
              "      <td>100</td>\n",
              "      <td>85.8000</td>\n",
              "      <td>0</td>\n",
              "      <td>304701</td>\n",
              "      <td>52983525035336</td>\n",
              "      <td>C</td>\n",
              "      <td>NaN</td>\n",
              "    </tr>\n",
              "    <tr>\n",
              "      <th>1</th>\n",
              "      <td>20200102</td>\n",
              "      <td>9:29:57.930146264</td>\n",
              "      <td>T</td>\n",
              "      <td>A</td>\n",
              "      <td>NaN</td>\n",
              "      <td>T</td>\n",
              "      <td>100</td>\n",
              "      <td>85.8000</td>\n",
              "      <td>0</td>\n",
              "      <td>304801</td>\n",
              "      <td>3472338191833380689</td>\n",
              "      <td>C</td>\n",
              "      <td>NaN</td>\n",
              "    </tr>\n",
              "    <tr>\n",
              "      <th>2</th>\n",
              "      <td>20200102</td>\n",
              "      <td>9:30:00.436516480</td>\n",
              "      <td>N</td>\n",
              "      <td>A</td>\n",
              "      <td>NaN</td>\n",
              "      <td>O</td>\n",
              "      <td>24994</td>\n",
              "      <td>85.9000</td>\n",
              "      <td>0</td>\n",
              "      <td>334001</td>\n",
              "      <td>52983525028169</td>\n",
              "      <td>C</td>\n",
              "      <td>NaN</td>\n",
              "    </tr>\n",
              "    <tr>\n",
              "      <th>3</th>\n",
              "      <td>20200102</td>\n",
              "      <td>9:30:00.436537082</td>\n",
              "      <td>N</td>\n",
              "      <td>A</td>\n",
              "      <td>NaN</td>\n",
              "      <td>Q</td>\n",
              "      <td>24994</td>\n",
              "      <td>85.9000</td>\n",
              "      <td>0</td>\n",
              "      <td>334101</td>\n",
              "      <td>52983525028170</td>\n",
              "      <td>C</td>\n",
              "      <td>NaN</td>\n",
              "    </tr>\n",
              "    <tr>\n",
              "      <th>4</th>\n",
              "      <td>20200102</td>\n",
              "      <td>9:30:00.438161828</td>\n",
              "      <td>N</td>\n",
              "      <td>A</td>\n",
              "      <td>NaN</td>\n",
              "      <td>NaN</td>\n",
              "      <td>100</td>\n",
              "      <td>85.9000</td>\n",
              "      <td>0</td>\n",
              "      <td>334801</td>\n",
              "      <td>52983525028175</td>\n",
              "      <td>C</td>\n",
              "      <td>NaN</td>\n",
              "    </tr>\n",
              "    <tr>\n",
              "      <th>...</th>\n",
              "      <td>...</td>\n",
              "      <td>...</td>\n",
              "      <td>...</td>\n",
              "      <td>...</td>\n",
              "      <td>...</td>\n",
              "      <td>...</td>\n",
              "      <td>...</td>\n",
              "      <td>...</td>\n",
              "      <td>...</td>\n",
              "      <td>...</td>\n",
              "      <td>...</td>\n",
              "      <td>...</td>\n",
              "      <td>...</td>\n",
              "    </tr>\n",
              "    <tr>\n",
              "      <th>95</th>\n",
              "      <td>20200102</td>\n",
              "      <td>9:30:34.350369795</td>\n",
              "      <td>D</td>\n",
              "      <td>A</td>\n",
              "      <td>NaN</td>\n",
              "      <td>NaN</td>\n",
              "      <td>100</td>\n",
              "      <td>85.8000</td>\n",
              "      <td>0</td>\n",
              "      <td>560301</td>\n",
              "      <td>71675224217399</td>\n",
              "      <td>C</td>\n",
              "      <td>T</td>\n",
              "    </tr>\n",
              "    <tr>\n",
              "      <th>96</th>\n",
              "      <td>20200102</td>\n",
              "      <td>9:30:34.350929223</td>\n",
              "      <td>D</td>\n",
              "      <td>A</td>\n",
              "      <td>NaN</td>\n",
              "      <td>NaN</td>\n",
              "      <td>100</td>\n",
              "      <td>85.8275</td>\n",
              "      <td>0</td>\n",
              "      <td>560401</td>\n",
              "      <td>71675224217400</td>\n",
              "      <td>C</td>\n",
              "      <td>T</td>\n",
              "    </tr>\n",
              "    <tr>\n",
              "      <th>97</th>\n",
              "      <td>20200102</td>\n",
              "      <td>9:30:34.366052905</td>\n",
              "      <td>D</td>\n",
              "      <td>A</td>\n",
              "      <td>NaN</td>\n",
              "      <td>NaN</td>\n",
              "      <td>100</td>\n",
              "      <td>85.8600</td>\n",
              "      <td>0</td>\n",
              "      <td>560501</td>\n",
              "      <td>71675224217415</td>\n",
              "      <td>C</td>\n",
              "      <td>T</td>\n",
              "    </tr>\n",
              "    <tr>\n",
              "      <th>98</th>\n",
              "      <td>20200102</td>\n",
              "      <td>9:30:34.402349585</td>\n",
              "      <td>D</td>\n",
              "      <td>A</td>\n",
              "      <td>NaN</td>\n",
              "      <td>NaN</td>\n",
              "      <td>100</td>\n",
              "      <td>85.8000</td>\n",
              "      <td>0</td>\n",
              "      <td>560601</td>\n",
              "      <td>71675224217421</td>\n",
              "      <td>C</td>\n",
              "      <td>T</td>\n",
              "    </tr>\n",
              "    <tr>\n",
              "      <th>99</th>\n",
              "      <td>20200102</td>\n",
              "      <td>9:30:34.792149808</td>\n",
              "      <td>D</td>\n",
              "      <td>A</td>\n",
              "      <td>NaN</td>\n",
              "      <td>ZI</td>\n",
              "      <td>2</td>\n",
              "      <td>85.7701</td>\n",
              "      <td>0</td>\n",
              "      <td>561501</td>\n",
              "      <td>79371805347673</td>\n",
              "      <td>C</td>\n",
              "      <td>N</td>\n",
              "    </tr>\n",
              "  </tbody>\n",
              "</table>\n",
              "<p>100 rows × 13 columns</p>\n",
              "</div>"
            ],
            "text/plain": [
              "        DATE             TIME_M EX  ...                TR_ID TR_SOURCE TR_RF\n",
              "0   20200102  9:29:57.929553117  P  ...       52983525035336         C   NaN\n",
              "1   20200102  9:29:57.930146264  T  ...  3472338191833380689         C   NaN\n",
              "2   20200102  9:30:00.436516480  N  ...       52983525028169         C   NaN\n",
              "3   20200102  9:30:00.436537082  N  ...       52983525028170         C   NaN\n",
              "4   20200102  9:30:00.438161828  N  ...       52983525028175         C   NaN\n",
              "..       ...                ... ..  ...                  ...       ...   ...\n",
              "95  20200102  9:30:34.350369795  D  ...       71675224217399         C     T\n",
              "96  20200102  9:30:34.350929223  D  ...       71675224217400         C     T\n",
              "97  20200102  9:30:34.366052905  D  ...       71675224217415         C     T\n",
              "98  20200102  9:30:34.402349585  D  ...       71675224217421         C     T\n",
              "99  20200102  9:30:34.792149808  D  ...       79371805347673         C     N\n",
              "\n",
              "[100 rows x 13 columns]"
            ]
          },
          "metadata": {
            "tags": []
          },
          "execution_count": 6
        }
      ]
    },
    {
      "cell_type": "markdown",
      "metadata": {
        "id": "yzYIteZ0XsTf",
        "colab_type": "text"
      },
      "source": [
        "Exchange CODE Description\n",
        "\n",
        "A NYSE MKT LLC\n",
        "\n",
        "B NASDAQ OMX BX, Inc.\n",
        "\n",
        "C National Stock Exchange Inc. (NSX)\n",
        "\n",
        "D Financial Industry Regulatory Authority, Inc.(FINRA ADF)\n",
        "\n",
        "I International Securities Exchange, LLC (ISE)\n",
        "\n",
        "J Bats EDGA Exchange, INC\n",
        "\n",
        "K Bats EDGX Exchange, Inc.\n",
        "\n",
        "M Chicago Stock Exchange, Inc. (CHX)\n",
        "\n",
        "N New York Stock Exchange LLC\n",
        "\n",
        "P NYSE Arca, Inc.\n",
        "\n",
        "S Consolidated Tape System\n",
        "\n",
        "T NASDAQ Stock Exchange, LLC (in Tape A, B securities)\n",
        "\n",
        "Q NASDAQ Stock Exchange, LLC (in Tape C securities)\n",
        "\n",
        "V The Investors’ Exchange, LLC (IEX)\n",
        "\n",
        "W Chicago Broad Options Exchange, Inc.(CBOE)\n",
        "\n",
        "X NASDAQ OMX PSX, Inc. LLC\n",
        "\n",
        "Y Bats BYX Exchange, Inc.\n",
        "\n",
        "Z Bats BZX Exchange, Inc."
      ]
    },
    {
      "cell_type": "code",
      "metadata": {
        "id": "uk1lseQk_fVG",
        "colab_type": "code",
        "outputId": "99277b84-dfa3-45e7-b0d2-50c63d19c697",
        "colab": {
          "base_uri": "https://localhost:8080/",
          "height": 1000
        }
      },
      "source": [
        "taq.data.head(30)"
      ],
      "execution_count": 7,
      "outputs": [
        {
          "output_type": "execute_result",
          "data": {
            "text/html": [
              "<div>\n",
              "<style scoped>\n",
              "    .dataframe tbody tr th:only-of-type {\n",
              "        vertical-align: middle;\n",
              "    }\n",
              "\n",
              "    .dataframe tbody tr th {\n",
              "        vertical-align: top;\n",
              "    }\n",
              "\n",
              "    .dataframe thead th {\n",
              "        text-align: right;\n",
              "    }\n",
              "</style>\n",
              "<table border=\"1\" class=\"dataframe\">\n",
              "  <thead>\n",
              "    <tr style=\"text-align: right;\">\n",
              "      <th></th>\n",
              "      <th>ticker</th>\n",
              "      <th>exchange</th>\n",
              "      <th>volume</th>\n",
              "      <th>price</th>\n",
              "      <th>priceXvolume</th>\n",
              "      <th>timestamp</th>\n",
              "      <th>date</th>\n",
              "      <th>ticks</th>\n",
              "    </tr>\n",
              "  </thead>\n",
              "  <tbody>\n",
              "    <tr>\n",
              "      <th>0</th>\n",
              "      <td>A</td>\n",
              "      <td>P</td>\n",
              "      <td>100</td>\n",
              "      <td>85.80</td>\n",
              "      <td>8580.00</td>\n",
              "      <td>2020-01-02 09:29:00</td>\n",
              "      <td>2020-01-02</td>\n",
              "      <td>0.0</td>\n",
              "    </tr>\n",
              "    <tr>\n",
              "      <th>1</th>\n",
              "      <td>A</td>\n",
              "      <td>T</td>\n",
              "      <td>100</td>\n",
              "      <td>85.80</td>\n",
              "      <td>8580.00</td>\n",
              "      <td>2020-01-02 09:29:00</td>\n",
              "      <td>2020-01-02</td>\n",
              "      <td>0.0</td>\n",
              "    </tr>\n",
              "    <tr>\n",
              "      <th>2</th>\n",
              "      <td>A</td>\n",
              "      <td>N</td>\n",
              "      <td>24994</td>\n",
              "      <td>85.90</td>\n",
              "      <td>2146984.60</td>\n",
              "      <td>2020-01-02 09:30:00</td>\n",
              "      <td>2020-01-02</td>\n",
              "      <td>1.0</td>\n",
              "    </tr>\n",
              "    <tr>\n",
              "      <th>3</th>\n",
              "      <td>A</td>\n",
              "      <td>N</td>\n",
              "      <td>24994</td>\n",
              "      <td>85.90</td>\n",
              "      <td>2146984.60</td>\n",
              "      <td>2020-01-02 09:30:00</td>\n",
              "      <td>2020-01-02</td>\n",
              "      <td>1.0</td>\n",
              "    </tr>\n",
              "    <tr>\n",
              "      <th>4</th>\n",
              "      <td>A</td>\n",
              "      <td>N</td>\n",
              "      <td>100</td>\n",
              "      <td>85.90</td>\n",
              "      <td>8590.00</td>\n",
              "      <td>2020-01-02 09:30:00</td>\n",
              "      <td>2020-01-02</td>\n",
              "      <td>1.0</td>\n",
              "    </tr>\n",
              "    <tr>\n",
              "      <th>5</th>\n",
              "      <td>A</td>\n",
              "      <td>N</td>\n",
              "      <td>2</td>\n",
              "      <td>85.55</td>\n",
              "      <td>171.10</td>\n",
              "      <td>2020-01-02 09:30:00</td>\n",
              "      <td>2020-01-02</td>\n",
              "      <td>-1.0</td>\n",
              "    </tr>\n",
              "    <tr>\n",
              "      <th>6</th>\n",
              "      <td>A</td>\n",
              "      <td>N</td>\n",
              "      <td>157</td>\n",
              "      <td>85.52</td>\n",
              "      <td>13426.64</td>\n",
              "      <td>2020-01-02 09:30:00</td>\n",
              "      <td>2020-01-02</td>\n",
              "      <td>-1.0</td>\n",
              "    </tr>\n",
              "    <tr>\n",
              "      <th>7</th>\n",
              "      <td>A</td>\n",
              "      <td>A</td>\n",
              "      <td>100</td>\n",
              "      <td>85.56</td>\n",
              "      <td>8556.00</td>\n",
              "      <td>2020-01-02 09:30:00</td>\n",
              "      <td>2020-01-02</td>\n",
              "      <td>1.0</td>\n",
              "    </tr>\n",
              "    <tr>\n",
              "      <th>8</th>\n",
              "      <td>A</td>\n",
              "      <td>N</td>\n",
              "      <td>41</td>\n",
              "      <td>85.51</td>\n",
              "      <td>3505.91</td>\n",
              "      <td>2020-01-02 09:30:00</td>\n",
              "      <td>2020-01-02</td>\n",
              "      <td>-1.0</td>\n",
              "    </tr>\n",
              "    <tr>\n",
              "      <th>9</th>\n",
              "      <td>A</td>\n",
              "      <td>A</td>\n",
              "      <td>100</td>\n",
              "      <td>85.20</td>\n",
              "      <td>8520.00</td>\n",
              "      <td>2020-01-02 09:30:00</td>\n",
              "      <td>2020-01-02</td>\n",
              "      <td>-1.0</td>\n",
              "    </tr>\n",
              "    <tr>\n",
              "      <th>10</th>\n",
              "      <td>A</td>\n",
              "      <td>P</td>\n",
              "      <td>100</td>\n",
              "      <td>85.78</td>\n",
              "      <td>8578.00</td>\n",
              "      <td>2020-01-02 09:30:00</td>\n",
              "      <td>2020-01-02</td>\n",
              "      <td>1.0</td>\n",
              "    </tr>\n",
              "    <tr>\n",
              "      <th>11</th>\n",
              "      <td>A</td>\n",
              "      <td>P</td>\n",
              "      <td>100</td>\n",
              "      <td>85.78</td>\n",
              "      <td>8578.00</td>\n",
              "      <td>2020-01-02 09:30:00</td>\n",
              "      <td>2020-01-02</td>\n",
              "      <td>1.0</td>\n",
              "    </tr>\n",
              "    <tr>\n",
              "      <th>12</th>\n",
              "      <td>A</td>\n",
              "      <td>T</td>\n",
              "      <td>100</td>\n",
              "      <td>85.77</td>\n",
              "      <td>8577.00</td>\n",
              "      <td>2020-01-02 09:30:00</td>\n",
              "      <td>2020-01-02</td>\n",
              "      <td>-1.0</td>\n",
              "    </tr>\n",
              "    <tr>\n",
              "      <th>13</th>\n",
              "      <td>A</td>\n",
              "      <td>T</td>\n",
              "      <td>100</td>\n",
              "      <td>85.66</td>\n",
              "      <td>8566.00</td>\n",
              "      <td>2020-01-02 09:30:00</td>\n",
              "      <td>2020-01-02</td>\n",
              "      <td>-1.0</td>\n",
              "    </tr>\n",
              "    <tr>\n",
              "      <th>14</th>\n",
              "      <td>A</td>\n",
              "      <td>T</td>\n",
              "      <td>100</td>\n",
              "      <td>85.77</td>\n",
              "      <td>8577.00</td>\n",
              "      <td>2020-01-02 09:30:00</td>\n",
              "      <td>2020-01-02</td>\n",
              "      <td>1.0</td>\n",
              "    </tr>\n",
              "    <tr>\n",
              "      <th>15</th>\n",
              "      <td>A</td>\n",
              "      <td>N</td>\n",
              "      <td>38</td>\n",
              "      <td>85.85</td>\n",
              "      <td>3262.30</td>\n",
              "      <td>2020-01-02 09:30:00</td>\n",
              "      <td>2020-01-02</td>\n",
              "      <td>1.0</td>\n",
              "    </tr>\n",
              "    <tr>\n",
              "      <th>16</th>\n",
              "      <td>A</td>\n",
              "      <td>D</td>\n",
              "      <td>2</td>\n",
              "      <td>85.90</td>\n",
              "      <td>171.80</td>\n",
              "      <td>2020-01-02 09:30:00</td>\n",
              "      <td>2020-01-02</td>\n",
              "      <td>1.0</td>\n",
              "    </tr>\n",
              "    <tr>\n",
              "      <th>17</th>\n",
              "      <td>A</td>\n",
              "      <td>D</td>\n",
              "      <td>1</td>\n",
              "      <td>85.90</td>\n",
              "      <td>85.90</td>\n",
              "      <td>2020-01-02 09:30:00</td>\n",
              "      <td>2020-01-02</td>\n",
              "      <td>1.0</td>\n",
              "    </tr>\n",
              "    <tr>\n",
              "      <th>18</th>\n",
              "      <td>A</td>\n",
              "      <td>D</td>\n",
              "      <td>100</td>\n",
              "      <td>85.90</td>\n",
              "      <td>8590.00</td>\n",
              "      <td>2020-01-02 09:30:00</td>\n",
              "      <td>2020-01-02</td>\n",
              "      <td>1.0</td>\n",
              "    </tr>\n",
              "    <tr>\n",
              "      <th>19</th>\n",
              "      <td>A</td>\n",
              "      <td>P</td>\n",
              "      <td>100</td>\n",
              "      <td>85.78</td>\n",
              "      <td>8578.00</td>\n",
              "      <td>2020-01-02 09:30:00</td>\n",
              "      <td>2020-01-02</td>\n",
              "      <td>-1.0</td>\n",
              "    </tr>\n",
              "    <tr>\n",
              "      <th>20</th>\n",
              "      <td>A</td>\n",
              "      <td>D</td>\n",
              "      <td>1</td>\n",
              "      <td>85.77</td>\n",
              "      <td>85.77</td>\n",
              "      <td>2020-01-02 09:30:00</td>\n",
              "      <td>2020-01-02</td>\n",
              "      <td>-1.0</td>\n",
              "    </tr>\n",
              "    <tr>\n",
              "      <th>21</th>\n",
              "      <td>A</td>\n",
              "      <td>D</td>\n",
              "      <td>1000</td>\n",
              "      <td>85.51</td>\n",
              "      <td>85510.00</td>\n",
              "      <td>2020-01-02 09:30:00</td>\n",
              "      <td>2020-01-02</td>\n",
              "      <td>-1.0</td>\n",
              "    </tr>\n",
              "    <tr>\n",
              "      <th>22</th>\n",
              "      <td>A</td>\n",
              "      <td>N</td>\n",
              "      <td>100</td>\n",
              "      <td>85.77</td>\n",
              "      <td>8577.00</td>\n",
              "      <td>2020-01-02 09:30:00</td>\n",
              "      <td>2020-01-02</td>\n",
              "      <td>1.0</td>\n",
              "    </tr>\n",
              "    <tr>\n",
              "      <th>23</th>\n",
              "      <td>A</td>\n",
              "      <td>T</td>\n",
              "      <td>100</td>\n",
              "      <td>85.77</td>\n",
              "      <td>8577.00</td>\n",
              "      <td>2020-01-02 09:30:00</td>\n",
              "      <td>2020-01-02</td>\n",
              "      <td>1.0</td>\n",
              "    </tr>\n",
              "    <tr>\n",
              "      <th>24</th>\n",
              "      <td>A</td>\n",
              "      <td>B</td>\n",
              "      <td>100</td>\n",
              "      <td>85.77</td>\n",
              "      <td>8577.00</td>\n",
              "      <td>2020-01-02 09:30:00</td>\n",
              "      <td>2020-01-02</td>\n",
              "      <td>1.0</td>\n",
              "    </tr>\n",
              "    <tr>\n",
              "      <th>25</th>\n",
              "      <td>A</td>\n",
              "      <td>T</td>\n",
              "      <td>100</td>\n",
              "      <td>85.77</td>\n",
              "      <td>8577.00</td>\n",
              "      <td>2020-01-02 09:30:00</td>\n",
              "      <td>2020-01-02</td>\n",
              "      <td>1.0</td>\n",
              "    </tr>\n",
              "    <tr>\n",
              "      <th>26</th>\n",
              "      <td>A</td>\n",
              "      <td>T</td>\n",
              "      <td>10</td>\n",
              "      <td>85.84</td>\n",
              "      <td>858.40</td>\n",
              "      <td>2020-01-02 09:30:00</td>\n",
              "      <td>2020-01-02</td>\n",
              "      <td>1.0</td>\n",
              "    </tr>\n",
              "    <tr>\n",
              "      <th>27</th>\n",
              "      <td>A</td>\n",
              "      <td>Z</td>\n",
              "      <td>3</td>\n",
              "      <td>85.77</td>\n",
              "      <td>257.31</td>\n",
              "      <td>2020-01-02 09:30:00</td>\n",
              "      <td>2020-01-02</td>\n",
              "      <td>-1.0</td>\n",
              "    </tr>\n",
              "    <tr>\n",
              "      <th>28</th>\n",
              "      <td>A</td>\n",
              "      <td>K</td>\n",
              "      <td>300</td>\n",
              "      <td>85.77</td>\n",
              "      <td>25731.00</td>\n",
              "      <td>2020-01-02 09:30:00</td>\n",
              "      <td>2020-01-02</td>\n",
              "      <td>-1.0</td>\n",
              "    </tr>\n",
              "    <tr>\n",
              "      <th>29</th>\n",
              "      <td>A</td>\n",
              "      <td>Y</td>\n",
              "      <td>10</td>\n",
              "      <td>85.80</td>\n",
              "      <td>858.00</td>\n",
              "      <td>2020-01-02 09:30:00</td>\n",
              "      <td>2020-01-02</td>\n",
              "      <td>1.0</td>\n",
              "    </tr>\n",
              "  </tbody>\n",
              "</table>\n",
              "</div>"
            ],
            "text/plain": [
              "   ticker exchange  volume  ...           timestamp        date ticks\n",
              "0       A        P     100  ... 2020-01-02 09:29:00  2020-01-02   0.0\n",
              "1       A        T     100  ... 2020-01-02 09:29:00  2020-01-02   0.0\n",
              "2       A        N   24994  ... 2020-01-02 09:30:00  2020-01-02   1.0\n",
              "3       A        N   24994  ... 2020-01-02 09:30:00  2020-01-02   1.0\n",
              "4       A        N     100  ... 2020-01-02 09:30:00  2020-01-02   1.0\n",
              "5       A        N       2  ... 2020-01-02 09:30:00  2020-01-02  -1.0\n",
              "6       A        N     157  ... 2020-01-02 09:30:00  2020-01-02  -1.0\n",
              "7       A        A     100  ... 2020-01-02 09:30:00  2020-01-02   1.0\n",
              "8       A        N      41  ... 2020-01-02 09:30:00  2020-01-02  -1.0\n",
              "9       A        A     100  ... 2020-01-02 09:30:00  2020-01-02  -1.0\n",
              "10      A        P     100  ... 2020-01-02 09:30:00  2020-01-02   1.0\n",
              "11      A        P     100  ... 2020-01-02 09:30:00  2020-01-02   1.0\n",
              "12      A        T     100  ... 2020-01-02 09:30:00  2020-01-02  -1.0\n",
              "13      A        T     100  ... 2020-01-02 09:30:00  2020-01-02  -1.0\n",
              "14      A        T     100  ... 2020-01-02 09:30:00  2020-01-02   1.0\n",
              "15      A        N      38  ... 2020-01-02 09:30:00  2020-01-02   1.0\n",
              "16      A        D       2  ... 2020-01-02 09:30:00  2020-01-02   1.0\n",
              "17      A        D       1  ... 2020-01-02 09:30:00  2020-01-02   1.0\n",
              "18      A        D     100  ... 2020-01-02 09:30:00  2020-01-02   1.0\n",
              "19      A        P     100  ... 2020-01-02 09:30:00  2020-01-02  -1.0\n",
              "20      A        D       1  ... 2020-01-02 09:30:00  2020-01-02  -1.0\n",
              "21      A        D    1000  ... 2020-01-02 09:30:00  2020-01-02  -1.0\n",
              "22      A        N     100  ... 2020-01-02 09:30:00  2020-01-02   1.0\n",
              "23      A        T     100  ... 2020-01-02 09:30:00  2020-01-02   1.0\n",
              "24      A        B     100  ... 2020-01-02 09:30:00  2020-01-02   1.0\n",
              "25      A        T     100  ... 2020-01-02 09:30:00  2020-01-02   1.0\n",
              "26      A        T      10  ... 2020-01-02 09:30:00  2020-01-02   1.0\n",
              "27      A        Z       3  ... 2020-01-02 09:30:00  2020-01-02  -1.0\n",
              "28      A        K     300  ... 2020-01-02 09:30:00  2020-01-02  -1.0\n",
              "29      A        Y      10  ... 2020-01-02 09:30:00  2020-01-02   1.0\n",
              "\n",
              "[30 rows x 8 columns]"
            ]
          },
          "metadata": {
            "tags": []
          },
          "execution_count": 7
        }
      ]
    },
    {
      "cell_type": "code",
      "metadata": {
        "id": "qWI4DRe8LZHG",
        "colab_type": "code",
        "outputId": "bd567a6a-020a-4e8c-97d3-c8381bd38348",
        "colab": {
          "base_uri": "https://localhost:8080/",
          "height": 450
        }
      },
      "source": [
        "taq.timeBars"
      ],
      "execution_count": 8,
      "outputs": [
        {
          "output_type": "execute_result",
          "data": {
            "text/html": [
              "<div>\n",
              "<style scoped>\n",
              "    .dataframe tbody tr th:only-of-type {\n",
              "        vertical-align: middle;\n",
              "    }\n",
              "\n",
              "    .dataframe tbody tr th {\n",
              "        vertical-align: top;\n",
              "    }\n",
              "\n",
              "    .dataframe thead th {\n",
              "        text-align: right;\n",
              "    }\n",
              "</style>\n",
              "<table border=\"1\" class=\"dataframe\">\n",
              "  <thead>\n",
              "    <tr style=\"text-align: right;\">\n",
              "      <th></th>\n",
              "      <th></th>\n",
              "      <th>Volume</th>\n",
              "      <th>VWAP</th>\n",
              "      <th>Open</th>\n",
              "      <th>Close</th>\n",
              "      <th>High</th>\n",
              "      <th>Low</th>\n",
              "    </tr>\n",
              "    <tr>\n",
              "      <th>ticker</th>\n",
              "      <th>timestamp</th>\n",
              "      <th></th>\n",
              "      <th></th>\n",
              "      <th></th>\n",
              "      <th></th>\n",
              "      <th></th>\n",
              "      <th></th>\n",
              "    </tr>\n",
              "  </thead>\n",
              "  <tbody>\n",
              "    <tr>\n",
              "      <th rowspan=\"5\" valign=\"top\">A</th>\n",
              "      <th>2020-01-02 09:29:00</th>\n",
              "      <td>200</td>\n",
              "      <td>85.800000</td>\n",
              "      <td>85.8000</td>\n",
              "      <td>85.8000</td>\n",
              "      <td>85.8000</td>\n",
              "      <td>85.8000</td>\n",
              "    </tr>\n",
              "    <tr>\n",
              "      <th>2020-01-02 09:30:00</th>\n",
              "      <td>83057</td>\n",
              "      <td>85.884028</td>\n",
              "      <td>85.9000</td>\n",
              "      <td>85.8200</td>\n",
              "      <td>85.9500</td>\n",
              "      <td>85.2000</td>\n",
              "    </tr>\n",
              "    <tr>\n",
              "      <th>2020-01-02 09:31:00</th>\n",
              "      <td>38976</td>\n",
              "      <td>85.965001</td>\n",
              "      <td>85.8200</td>\n",
              "      <td>86.0400</td>\n",
              "      <td>86.0400</td>\n",
              "      <td>85.7800</td>\n",
              "    </tr>\n",
              "    <tr>\n",
              "      <th>2020-01-02 09:32:00</th>\n",
              "      <td>7126</td>\n",
              "      <td>86.056736</td>\n",
              "      <td>86.0400</td>\n",
              "      <td>86.2000</td>\n",
              "      <td>86.2000</td>\n",
              "      <td>85.9700</td>\n",
              "    </tr>\n",
              "    <tr>\n",
              "      <th>2020-01-02 09:33:00</th>\n",
              "      <td>9293</td>\n",
              "      <td>86.140407</td>\n",
              "      <td>86.2100</td>\n",
              "      <td>85.9000</td>\n",
              "      <td>86.2500</td>\n",
              "      <td>85.9000</td>\n",
              "    </tr>\n",
              "    <tr>\n",
              "      <th>...</th>\n",
              "      <th>...</th>\n",
              "      <td>...</td>\n",
              "      <td>...</td>\n",
              "      <td>...</td>\n",
              "      <td>...</td>\n",
              "      <td>...</td>\n",
              "      <td>...</td>\n",
              "    </tr>\n",
              "    <tr>\n",
              "      <th rowspan=\"5\" valign=\"top\">ZYXI</th>\n",
              "      <th>2020-01-02 10:25:00</th>\n",
              "      <td>105</td>\n",
              "      <td>7.950476</td>\n",
              "      <td>7.9500</td>\n",
              "      <td>7.9600</td>\n",
              "      <td>7.9600</td>\n",
              "      <td>7.9500</td>\n",
              "    </tr>\n",
              "    <tr>\n",
              "      <th>2020-01-02 10:26:00</th>\n",
              "      <td>300</td>\n",
              "      <td>7.947133</td>\n",
              "      <td>7.9390</td>\n",
              "      <td>7.9424</td>\n",
              "      <td>7.9600</td>\n",
              "      <td>7.9390</td>\n",
              "    </tr>\n",
              "    <tr>\n",
              "      <th>2020-01-02 10:27:00</th>\n",
              "      <td>100</td>\n",
              "      <td>7.926500</td>\n",
              "      <td>7.9265</td>\n",
              "      <td>7.9265</td>\n",
              "      <td>7.9265</td>\n",
              "      <td>7.9265</td>\n",
              "    </tr>\n",
              "    <tr>\n",
              "      <th>2020-01-02 10:28:00</th>\n",
              "      <td>300</td>\n",
              "      <td>7.917633</td>\n",
              "      <td>7.9229</td>\n",
              "      <td>7.9100</td>\n",
              "      <td>7.9229</td>\n",
              "      <td>7.9100</td>\n",
              "    </tr>\n",
              "    <tr>\n",
              "      <th>2020-01-02 10:29:00</th>\n",
              "      <td>100</td>\n",
              "      <td>7.940000</td>\n",
              "      <td>7.9400</td>\n",
              "      <td>7.9400</td>\n",
              "      <td>7.9400</td>\n",
              "      <td>7.9400</td>\n",
              "    </tr>\n",
              "  </tbody>\n",
              "</table>\n",
              "<p>267711 rows × 6 columns</p>\n",
              "</div>"
            ],
            "text/plain": [
              "                            Volume       VWAP  ...     High      Low\n",
              "ticker timestamp                               ...                  \n",
              "A      2020-01-02 09:29:00     200  85.800000  ...  85.8000  85.8000\n",
              "       2020-01-02 09:30:00   83057  85.884028  ...  85.9500  85.2000\n",
              "       2020-01-02 09:31:00   38976  85.965001  ...  86.0400  85.7800\n",
              "       2020-01-02 09:32:00    7126  86.056736  ...  86.2000  85.9700\n",
              "       2020-01-02 09:33:00    9293  86.140407  ...  86.2500  85.9000\n",
              "...                            ...        ...  ...      ...      ...\n",
              "ZYXI   2020-01-02 10:25:00     105   7.950476  ...   7.9600   7.9500\n",
              "       2020-01-02 10:26:00     300   7.947133  ...   7.9600   7.9390\n",
              "       2020-01-02 10:27:00     100   7.926500  ...   7.9265   7.9265\n",
              "       2020-01-02 10:28:00     300   7.917633  ...   7.9229   7.9100\n",
              "       2020-01-02 10:29:00     100   7.940000  ...   7.9400   7.9400\n",
              "\n",
              "[267711 rows x 6 columns]"
            ]
          },
          "metadata": {
            "tags": []
          },
          "execution_count": 8
        }
      ]
    },
    {
      "cell_type": "code",
      "metadata": {
        "id": "8jYc4qCMi1Ne",
        "colab_type": "code",
        "colab": {
          "base_uri": "https://localhost:8080/",
          "height": 371
        },
        "outputId": "b1ef908e-1d79-4348-f7b5-ab79ad1340ad"
      },
      "source": [
        "plt.figure(figsize = (45,15))\n",
        "mpf.plot(taq.timeBars.loc['AAPL'], type = 'candle',mav = 4)"
      ],
      "execution_count": 9,
      "outputs": [
        {
          "output_type": "display_data",
          "data": {
            "text/plain": [
              "<Figure size 3240x1080 with 0 Axes>"
            ]
          },
          "metadata": {
            "tags": []
          }
        },
        {
          "output_type": "display_data",
          "data": {
            "image/png": "[encoded data removed]",
            "text/plain": [
              "<Figure size 576x414 with 2 Axes>"
            ]
          },
          "metadata": {
            "tags": []
          }
        }
      ]
    },
    {
      "cell_type": "code",
      "metadata": {
        "id": "o1DPZAmRv8p3",
        "colab_type": "code",
        "colab": {
          "base_uri": "https://localhost:8080/",
          "height": 589
        },
        "outputId": "622542e0-a6e8-43e5-f3a0-8dc46f780ee7"
      },
      "source": [
        "taq.data[taq.data.ticker == 'AAPL']"
      ],
      "execution_count": 30,
      "outputs": [
        {
          "output_type": "execute_result",
          "data": {
            "text/html": [
              "<div>\n",
              "<style scoped>\n",
              "    .dataframe tbody tr th:only-of-type {\n",
              "        vertical-align: middle;\n",
              "    }\n",
              "\n",
              "    .dataframe tbody tr th {\n",
              "        vertical-align: top;\n",
              "    }\n",
              "\n",
              "    .dataframe thead th {\n",
              "        text-align: right;\n",
              "    }\n",
              "</style>\n",
              "<table border=\"1\" class=\"dataframe\">\n",
              "  <thead>\n",
              "    <tr style=\"text-align: right;\">\n",
              "      <th></th>\n",
              "      <th>ticker</th>\n",
              "      <th>exchange</th>\n",
              "      <th>volume</th>\n",
              "      <th>price</th>\n",
              "      <th>priceXvolume</th>\n",
              "      <th>timestamp</th>\n",
              "      <th>date</th>\n",
              "      <th>ticks</th>\n",
              "    </tr>\n",
              "  </thead>\n",
              "  <tbody>\n",
              "    <tr>\n",
              "      <th>18938</th>\n",
              "      <td>AAPL</td>\n",
              "      <td>Q</td>\n",
              "      <td>19</td>\n",
              "      <td>296.3400</td>\n",
              "      <td>5630.4600</td>\n",
              "      <td>2020-01-02 09:20:00</td>\n",
              "      <td>2020-01-02</td>\n",
              "      <td>0.0</td>\n",
              "    </tr>\n",
              "    <tr>\n",
              "      <th>18939</th>\n",
              "      <td>AAPL</td>\n",
              "      <td>Q</td>\n",
              "      <td>1</td>\n",
              "      <td>296.3300</td>\n",
              "      <td>296.3300</td>\n",
              "      <td>2020-01-02 09:20:00</td>\n",
              "      <td>2020-01-02</td>\n",
              "      <td>-1.0</td>\n",
              "    </tr>\n",
              "    <tr>\n",
              "      <th>18940</th>\n",
              "      <td>AAPL</td>\n",
              "      <td>K</td>\n",
              "      <td>4</td>\n",
              "      <td>296.3300</td>\n",
              "      <td>1185.3200</td>\n",
              "      <td>2020-01-02 09:20:00</td>\n",
              "      <td>2020-01-02</td>\n",
              "      <td>-1.0</td>\n",
              "    </tr>\n",
              "    <tr>\n",
              "      <th>18941</th>\n",
              "      <td>AAPL</td>\n",
              "      <td>D</td>\n",
              "      <td>431</td>\n",
              "      <td>296.3202</td>\n",
              "      <td>127714.0062</td>\n",
              "      <td>2020-01-02 09:20:00</td>\n",
              "      <td>2020-01-02</td>\n",
              "      <td>-1.0</td>\n",
              "    </tr>\n",
              "    <tr>\n",
              "      <th>18942</th>\n",
              "      <td>AAPL</td>\n",
              "      <td>D</td>\n",
              "      <td>1</td>\n",
              "      <td>296.3400</td>\n",
              "      <td>296.3400</td>\n",
              "      <td>2020-01-02 09:20:00</td>\n",
              "      <td>2020-01-02</td>\n",
              "      <td>1.0</td>\n",
              "    </tr>\n",
              "    <tr>\n",
              "      <th>...</th>\n",
              "      <td>...</td>\n",
              "      <td>...</td>\n",
              "      <td>...</td>\n",
              "      <td>...</td>\n",
              "      <td>...</td>\n",
              "      <td>...</td>\n",
              "      <td>...</td>\n",
              "      <td>...</td>\n",
              "    </tr>\n",
              "    <tr>\n",
              "      <th>98555</th>\n",
              "      <td>AAPL</td>\n",
              "      <td>C</td>\n",
              "      <td>42</td>\n",
              "      <td>297.4600</td>\n",
              "      <td>12493.3200</td>\n",
              "      <td>2020-01-02 10:29:00</td>\n",
              "      <td>2020-01-02</td>\n",
              "      <td>-1.0</td>\n",
              "    </tr>\n",
              "    <tr>\n",
              "      <th>98556</th>\n",
              "      <td>AAPL</td>\n",
              "      <td>K</td>\n",
              "      <td>76</td>\n",
              "      <td>297.4900</td>\n",
              "      <td>22609.2400</td>\n",
              "      <td>2020-01-02 10:29:00</td>\n",
              "      <td>2020-01-02</td>\n",
              "      <td>1.0</td>\n",
              "    </tr>\n",
              "    <tr>\n",
              "      <th>98557</th>\n",
              "      <td>AAPL</td>\n",
              "      <td>K</td>\n",
              "      <td>100</td>\n",
              "      <td>297.5000</td>\n",
              "      <td>29750.0000</td>\n",
              "      <td>2020-01-02 10:29:00</td>\n",
              "      <td>2020-01-02</td>\n",
              "      <td>1.0</td>\n",
              "    </tr>\n",
              "    <tr>\n",
              "      <th>98558</th>\n",
              "      <td>AAPL</td>\n",
              "      <td>D</td>\n",
              "      <td>100</td>\n",
              "      <td>297.5263</td>\n",
              "      <td>29752.6300</td>\n",
              "      <td>2020-01-02 10:29:00</td>\n",
              "      <td>2020-01-02</td>\n",
              "      <td>1.0</td>\n",
              "    </tr>\n",
              "    <tr>\n",
              "      <th>98559</th>\n",
              "      <td>AAPL</td>\n",
              "      <td>D</td>\n",
              "      <td>100</td>\n",
              "      <td>297.5400</td>\n",
              "      <td>29754.0000</td>\n",
              "      <td>2020-01-02 10:29:00</td>\n",
              "      <td>2020-01-02</td>\n",
              "      <td>1.0</td>\n",
              "    </tr>\n",
              "  </tbody>\n",
              "</table>\n",
              "<p>79622 rows × 8 columns</p>\n",
              "</div>"
            ],
            "text/plain": [
              "      ticker exchange  volume  ...           timestamp        date ticks\n",
              "18938   AAPL        Q      19  ... 2020-01-02 09:20:00  2020-01-02   0.0\n",
              "18939   AAPL        Q       1  ... 2020-01-02 09:20:00  2020-01-02  -1.0\n",
              "18940   AAPL        K       4  ... 2020-01-02 09:20:00  2020-01-02  -1.0\n",
              "18941   AAPL        D     431  ... 2020-01-02 09:20:00  2020-01-02  -1.0\n",
              "18942   AAPL        D       1  ... 2020-01-02 09:20:00  2020-01-02   1.0\n",
              "...      ...      ...     ...  ...                 ...         ...   ...\n",
              "98555   AAPL        C      42  ... 2020-01-02 10:29:00  2020-01-02  -1.0\n",
              "98556   AAPL        K      76  ... 2020-01-02 10:29:00  2020-01-02   1.0\n",
              "98557   AAPL        K     100  ... 2020-01-02 10:29:00  2020-01-02   1.0\n",
              "98558   AAPL        D     100  ... 2020-01-02 10:29:00  2020-01-02   1.0\n",
              "98559   AAPL        D     100  ... 2020-01-02 10:29:00  2020-01-02   1.0\n",
              "\n",
              "[79622 rows x 8 columns]"
            ]
          },
          "metadata": {
            "tags": []
          },
          "execution_count": 30
        }
      ]
    },
    {
      "cell_type": "code",
      "metadata": {
        "id": "vnsked5V0vHf",
        "colab_type": "code",
        "colab": {}
      },
      "source": [
        "aapl = taq.data[taq.data.ticker == 'AAPL']\n",
        "abs_Ebv_init = abs(aapl.ticks.mean())\n",
        "ticks = aapl.ticks\n",
        "ET_init = 20000\n"
      ],
      "execution_count": 0,
      "outputs": []
    },
    {
      "cell_type": "code",
      "metadata": {
        "id": "utKFlJBwqmz_",
        "colab_type": "code",
        "colab": {
          "base_uri": "https://localhost:8080/",
          "height": 34
        },
        "outputId": "17f58e01-7a5f-4222-e1d8-3df688372300"
      },
      "source": [
        "exp_ticks = 140\n",
        "avg = abs(ticks.mean())\n",
        "thresh = exp_ticks * avg\n",
        "print(thresh)"
      ],
      "execution_count": 46,
      "outputs": [
        {
          "output_type": "stream",
          "text": [
            "4.313129537062621\n"
          ],
          "name": "stdout"
        }
      ]
    },
    {
      "cell_type": "code",
      "metadata": {
        "id": "VNPjOkXEikGP",
        "colab_type": "code",
        "colab": {}
      },
      "source": [
        "cumsum = np.abs(ticks.cumsum())"
      ],
      "execution_count": 0,
      "outputs": []
    },
    {
      "cell_type": "code",
      "metadata": {
        "id": "nsVTHJhiq7_8",
        "colab_type": "code",
        "colab": {
          "base_uri": "https://localhost:8080/",
          "height": 221
        },
        "outputId": "c22781ad-8b76-4d87-d799-69eddf1aa461"
      },
      "source": [
        "cumsum >= thresh"
      ],
      "execution_count": 48,
      "outputs": [
        {
          "output_type": "execute_result",
          "data": {
            "text/plain": [
              "18938    False\n",
              "18939    False\n",
              "18940    False\n",
              "18941    False\n",
              "18942    False\n",
              "         ...  \n",
              "98555     True\n",
              "98556     True\n",
              "98557     True\n",
              "98558     True\n",
              "98559     True\n",
              "Name: ticks, Length: 79622, dtype: bool"
            ]
          },
          "metadata": {
            "tags": []
          },
          "execution_count": 48
        }
      ]
    },
    {
      "cell_type": "markdown",
      "metadata": {
        "colab_type": "text",
        "id": "iObGqwShfioO"
      },
      "source": [
        "## Ticker Specific"
      ]
    },
    {
      "cell_type": "code",
      "metadata": {
        "colab_type": "code",
        "id": "5R5bdt57hegd",
        "colab": {}
      },
      "source": [
        "QQQ = data[data.SYM_ROOT == 'QQQ']"
      ],
      "execution_count": 0,
      "outputs": []
    },
    {
      "cell_type": "code",
      "metadata": {
        "colab_type": "code",
        "id": "GUML1hm8jw7s",
        "outputId": "16710b0d-b0b7-45f7-d5b3-6f996bc2e3ad",
        "colab": {
          "base_uri": "https://localhost:8080/",
          "height": 34
        }
      },
      "source": [
        "QQQ.shape"
      ],
      "execution_count": 0,
      "outputs": [
        {
          "output_type": "execute_result",
          "data": {
            "text/plain": [
              "(35788, 13)"
            ]
          },
          "metadata": {
            "tags": []
          },
          "execution_count": 11
        }
      ]
    },
    {
      "cell_type": "code",
      "metadata": {
        "colab_type": "code",
        "id": "u_MKMWVRjydb",
        "outputId": "474dc95c-5bd5-48ef-e8fc-8ce562f650f3",
        "colab": {
          "base_uri": "https://localhost:8080/",
          "height": 272
        }
      },
      "source": [
        "QQQ.EX.value_counts()"
      ],
      "execution_count": 0,
      "outputs": [
        {
          "output_type": "execute_result",
          "data": {
            "text/plain": [
              "Q    10001\n",
              "D     6265\n",
              "P     6156\n",
              "Z     4299\n",
              "K     3659\n",
              "Y     1193\n",
              "N     1133\n",
              "X      879\n",
              "B      698\n",
              "J      653\n",
              "V      601\n",
              "C      164\n",
              "A       70\n",
              "M       17\n",
              "Name: EX, dtype: int64"
            ]
          },
          "metadata": {
            "tags": []
          },
          "execution_count": 12
        }
      ]
    },
    {
      "cell_type": "code",
      "metadata": {
        "colab_type": "code",
        "id": "5bjnmR_Elf9R",
        "colab": {}
      },
      "source": [
        "IBM = data[data.SYM_ROOT == 'IBM']"
      ],
      "execution_count": 0,
      "outputs": []
    },
    {
      "cell_type": "code",
      "metadata": {
        "colab_type": "code",
        "id": "QDmn5M38l27K",
        "outputId": "af52e1b9-76ff-4f8b-f263-6de95e087c77",
        "colab": {
          "base_uri": "https://localhost:8080/",
          "height": 272
        }
      },
      "source": [
        "IBM.EX.value_counts()"
      ],
      "execution_count": 0,
      "outputs": [
        {
          "output_type": "execute_result",
          "data": {
            "text/plain": [
              "D    2129\n",
              "Z    1283\n",
              "N    1101\n",
              "T    1032\n",
              "K     686\n",
              "P     582\n",
              "Y     395\n",
              "J     327\n",
              "V     116\n",
              "B      38\n",
              "C      18\n",
              "X      11\n",
              "A       2\n",
              "M       1\n",
              "Name: EX, dtype: int64"
            ]
          },
          "metadata": {
            "tags": []
          },
          "execution_count": 14
        }
      ]
    },
    {
      "cell_type": "code",
      "metadata": {
        "colab_type": "code",
        "id": "JQWWRUwTl9Ua",
        "outputId": "3c79f137-62f2-442b-e4e4-91a1507da9fb",
        "colab": {
          "base_uri": "https://localhost:8080/",
          "height": 49
        }
      },
      "source": [
        "IBM[IBM.DATE == 20200103]"
      ],
      "execution_count": 0,
      "outputs": [
        {
          "output_type": "execute_result",
          "data": {
            "text/html": [
              "<div>\n",
              "<style scoped>\n",
              "    .dataframe tbody tr th:only-of-type {\n",
              "        vertical-align: middle;\n",
              "    }\n",
              "\n",
              "    .dataframe tbody tr th {\n",
              "        vertical-align: top;\n",
              "    }\n",
              "\n",
              "    .dataframe thead th {\n",
              "        text-align: right;\n",
              "    }\n",
              "</style>\n",
              "<table border=\"1\" class=\"dataframe\">\n",
              "  <thead>\n",
              "    <tr style=\"text-align: right;\">\n",
              "      <th></th>\n",
              "      <th>DATE</th>\n",
              "      <th>TIME_M</th>\n",
              "      <th>EX</th>\n",
              "      <th>SYM_ROOT</th>\n",
              "      <th>SYM_SUFFIX</th>\n",
              "      <th>TR_SCOND</th>\n",
              "      <th>SIZE</th>\n",
              "      <th>PRICE</th>\n",
              "      <th>TR_CORR</th>\n",
              "      <th>TR_SEQNUM</th>\n",
              "      <th>TR_ID</th>\n",
              "      <th>TR_SOURCE</th>\n",
              "      <th>TR_RF</th>\n",
              "    </tr>\n",
              "  </thead>\n",
              "  <tbody>\n",
              "  </tbody>\n",
              "</table>\n",
              "</div>"
            ],
            "text/plain": [
              "Empty DataFrame\n",
              "Columns: [DATE, TIME_M, EX, SYM_ROOT, SYM_SUFFIX, TR_SCOND, SIZE, PRICE, TR_CORR, TR_SEQNUM, TR_ID, TR_SOURCE, TR_RF]\n",
              "Index: []"
            ]
          },
          "metadata": {
            "tags": []
          },
          "execution_count": 15
        }
      ]
    },
    {
      "cell_type": "code",
      "metadata": {
        "colab_type": "code",
        "id": "LQTQy9ompJJ7",
        "colab": {}
      },
      "source": [
        ""
      ],
      "execution_count": 0,
      "outputs": []
    }
  ]
}